{
 "cells": [
  {
   "cell_type": "code",
   "execution_count": 12,
   "metadata": {},
   "outputs": [],
   "source": [
    "import numpy as np\n",
    "import serial\n",
    "import time\n",
    "import scipy as sc\n",
    "import matplotlib.pyplot as plt\n",
    "import serial\n",
    "\n",
    "import time\n"
   ]
  },
  {
   "cell_type": "code",
   "execution_count": 66,
   "metadata": {},
   "outputs": [
    {
     "data": {
      "text/plain": [
       "Serial<id=0x7f2e3a013b20, open=True>(port='/dev/ttyUSB0', baudrate=115200, bytesize=8, parity='N', stopbits=1, timeout=None, xonxoff=False, rtscts=False, dsrdtr=False)"
      ]
     },
     "execution_count": 66,
     "metadata": {},
     "output_type": "execute_result"
    }
   ],
   "source": [
    "ser"
   ]
  },
  {
   "cell_type": "code",
   "execution_count": 13,
   "metadata": {},
   "outputs": [],
   "source": [
    "ser=serial.Serial('/dev/ttyUSB1')\n",
    "Baudrate=115200\n",
    "ser.baudrate=Baudrate\n",
    "az_min=0\n",
    "az_max=360\n",
    "el_min=0\n",
    "el_max=90"
   ]
  },
  {
   "cell_type": "code",
   "execution_count": 14,
   "metadata": {},
   "outputs": [],
   "source": [
    "def SendPacket(packet):\n",
    "    ser.write(packet)\n",
    "    ser.flush()\n",
    "def ReceivePacket():\n",
    "    return ser.read(12)\n",
    "\n",
    "def ReceivePacket_az_el():\n",
    "    received_vals=ReceivePacket()\n",
    "    az = (\n",
    "    (received_vals[1] * 100)\n",
    "    + (received_vals[2] * 10)\n",
    "    + received_vals[3]\n",
    "    + (received_vals[4] / 10.0)-az_max+az_min\n",
    "\n",
    "    )\n",
    "    el = (\n",
    "    (received_vals[6] * 100)\n",
    "    + (received_vals[7] * 10)\n",
    "    + received_vals[8]\n",
    "    + (received_vals[9] / 10.0)\n",
    "    -360.0\n",
    "    )\n",
    "    ph = received_vals[5]\n",
    "    pv = received_vals[10]\n",
    "    \n",
    "    print(\"Azimuth:   \" + str(az))\n",
    "    print(\"Elevation: \" + str(el))\n",
    "    print(\"PH: \" + str(ph))\n",
    "    print(\"PV: \" + str(pv) + \"\\n\")\n",
    "    return az,el"
   ]
  },
  {
   "cell_type": "code",
   "execution_count": 15,
   "metadata": {},
   "outputs": [],
   "source": [
    "\n",
    "def StatusCmd():\n",
    "    cmd = [0x57, 0x00, 0x00, 0x00, 0x00, 0x00, 0x00, 0x00, 0x00, 0x00, 0x00, 0x1f, 0x20]\n",
    "    packet = bytes(cmd)\n",
    "    SendPacket(packet)\n",
    "    time.sleep(1)\n",
    "    az,el=ReceivePacket_az_el()\n",
    "    \n",
    "\n",
    "def Stop():\n",
    "    cmd=[0x57,0x00,0x00,0x00,0x00,0x00,0x00,0x00,0x00,0x00,0x00,0x0F,0x20]\n",
    "    packet=bytes(cmd)\n",
    "    SendPacket(packet)\n",
    "    time.sleep(1)\n",
    "    az,el=ReceivePacket_az_el()\n",
    "\n",
    "def Restart():\n",
    "    cmd=[0x57,0xef,0xbe,0xad,0xde,0x00,0x00,0x00,0x00,0x00,0x00,0xee,0x20]\n",
    "    packet=bytes(cmd)\n",
    "    SendPacket(packet)\n",
    "    print('Restarting in')\n",
    "    for i in range(5, 0, -1):\n",
    "        print(i)\n",
    "        time.sleep(1)  # Wait for 1 second\n",
    "    print(\"Restarting\")\n",
    "    \n",
    "def Point(az,el,pulse_per_deg=10):\n",
    "    pulse=pulse_per_deg\n",
    "    az=az-az_min\n",
    "    el=el\n",
    "    az_pulses=str(int((az+az_max)*pulse))\n",
    "    el_pulses=str(int((el+360)*pulse))\n",
    "    \n",
    "    cmd = [\n",
    "        0x57,  # Start byte\n",
    "        0x30 + int(az_pulses[0]),  # Convert each digit to ASCII hex\n",
    "        0x30 + int(az_pulses[1]),\n",
    "        0x30 + int(az_pulses[2]),\n",
    "        0x30 + int(az_pulses[3]),\n",
    "        0x0A,  # Pulse per degree for azimuth (newline or separator)\n",
    "        0x30 + int(el_pulses[0]),  # Convert each digit to ASCII hex\n",
    "        0x30 + int(el_pulses[1]),\n",
    "        0x30 + int(el_pulses[2]),\n",
    "        0x30 + int(el_pulses[3]),\n",
    "        0x0A,  # Pulse per degree for elevation (newline or separator)\n",
    "        0xF2,  # Arbitrary end or control byte\n",
    "        0x20   # Space byte\n",
    "    ]\n",
    "    packet=bytes(cmd)\n",
    "    SendPacket(packet)"
   ]
  },
  {
   "cell_type": "code",
   "execution_count": null,
   "metadata": {},
   "outputs": [],
   "source": []
  },
  {
   "cell_type": "code",
   "execution_count": 25,
   "metadata": {},
   "outputs": [],
   "source": [
    "Point(0,0)"
   ]
  },
  {
   "cell_type": "code",
   "execution_count": 16,
   "metadata": {},
   "outputs": [
    {
     "name": "stdout",
     "output_type": "stream",
     "text": [
      "Restarting in\n",
      "5\n",
      "4\n",
      "3\n",
      "2\n",
      "1\n",
      "Restarting\n"
     ]
    }
   ],
   "source": [
    "Restart()"
   ]
  },
  {
   "cell_type": "code",
   "execution_count": 24,
   "metadata": {},
   "outputs": [
    {
     "name": "stdout",
     "output_type": "stream",
     "text": [
      "Azimuth:   50.0\n",
      "Elevation: 0.0\n",
      "PH: 10\n",
      "PV: 10\n",
      "\n"
     ]
    }
   ],
   "source": [
    "StatusCmd()"
   ]
  },
  {
   "cell_type": "code",
   "execution_count": 95,
   "metadata": {},
   "outputs": [
    {
     "name": "stdout",
     "output_type": "stream",
     "text": [
      "Azimuth:   -180.0\n",
      "Elevation: 0.0\n",
      "PH: 10\n",
      "PV: 10\n",
      "\n"
     ]
    }
   ],
   "source": [
    "Stop()"
   ]
  },
  {
   "cell_type": "code",
   "execution_count": 67,
   "metadata": {},
   "outputs": [
    {
     "ename": "TypeError",
     "evalue": "Can't instantiate abstract class Motor without an implementation for abstract methods 'point', 'status'",
     "output_type": "error",
     "traceback": [
      "\u001b[0;31m---------------------------------------------------------------------------\u001b[0m",
      "\u001b[0;31mTypeError\u001b[0m                                 Traceback (most recent call last)",
      "Cell \u001b[0;32mIn[67], line 1\u001b[0m\n\u001b[0;32m----> 1\u001b[0m M\u001b[38;5;241m=\u001b[39m\u001b[43mMotor\u001b[49m\u001b[43m(\u001b[49m\u001b[38;5;124;43m'\u001b[39;49m\u001b[38;5;124;43m/dev/ttyUSB0\u001b[39;49m\u001b[38;5;124;43m'\u001b[39;49m\u001b[43m,\u001b[49m\u001b[38;5;241;43m115200\u001b[39;49m\u001b[43m,\u001b[49m\u001b[38;5;241;43m0\u001b[39;49m\u001b[43m,\u001b[49m\u001b[38;5;241;43m360\u001b[39;49m\u001b[43m,\u001b[49m\u001b[38;5;241;43m-\u001b[39;49m\u001b[38;5;241;43m5\u001b[39;49m\u001b[43m,\u001b[49m\u001b[38;5;241;43m90\u001b[39;49m\u001b[43m)\u001b[49m\n",
      "\u001b[0;31mTypeError\u001b[0m: Can't instantiate abstract class Motor without an implementation for abstract methods 'point', 'status'"
     ]
    }
   ],
   "source": [
    "M=Motor('/dev/ttyUSB0',115200,0,360,-5,90)\n"
   ]
  },
  {
   "cell_type": "code",
   "execution_count": 64,
   "metadata": {},
   "outputs": [],
   "source": [
    "import serial\n",
    "\n",
    "from abc import ABC, abstractmethod\n",
    "from time import sleep\n",
    "from math import cos, acos, pi, sqrt, floor\n",
    "\n",
    "\n",
    "class Motor(ABC):\n",
    "    \"\"\"Abstract Class for All Motors Types\n",
    "\n",
    "    Attributes\n",
    "    ----------\n",
    "    port : str\n",
    "        Serial Port Identifier String for Communicating with the Motor\n",
    "    baudrate : int\n",
    "        Baudrate for serial connection\n",
    "    az_limits : (float, float)\n",
    "        Tuple of Lower and Upper Azimuth Limits\n",
    "    el_limits : (float, float)\n",
    "        Tuple of Lower and Upper Elevation Limits\n",
    "    serial : serial.Serial\n",
    "        Serial Object for Communicating with the Motor\n",
    "\n",
    "    See Also\n",
    "    --------\n",
    "    <https://pyserial.readthedocs.io/en/latest/pyserial_api.html>\n",
    "    \"\"\"\n",
    "\n",
    "    def __init__(self, port, baudrate, az_limits, el_limits):\n",
    "        \"\"\"Constructor for the Abstract Motor Class\n",
    "\n",
    "        Parameters\n",
    "        ----------\n",
    "        port : str\n",
    "            Serial Port Identifier String for Communicating with the Motor\n",
    "        az_limits : (float, float)\n",
    "            Tuple of Lower and Upper Azimuth Limits\n",
    "        el_limits : (float, float)\n",
    "            Tuple of Lower and Upper Elevation Limits\n",
    "        \"\"\"\n",
    "        self.port = port\n",
    "        self.baudrate = baudrate\n",
    "        self.az_limits = az_limits\n",
    "        self.el_limits = el_limits\n",
    "        self.serial = None\n",
    "\n",
    "    @abstractmethod\n",
    "    def point(self, az, el):\n",
    "        \"\"\"Abstract Method Prototype for Pointing a Motor at an AzEl Coordinate\n",
    "\n",
    "        Parameters\n",
    "        ----------\n",
    "        az : float\n",
    "            Azimuth Coordinate Value to Point At\n",
    "        el : float\n",
    "            Elevation Coordinate Value to Point At\n",
    "\n",
    "        Returns\n",
    "        -------\n",
    "        (float, float)\n",
    "            Azimuth and Elevation Coordinate as a Tuple of Floats\n",
    "        \"\"\"\n",
    "        pass\n",
    "\n",
    "    @abstractmethod\n",
    "    def status(self):\n",
    "        \"\"\"Abstract Method Prototype for Getting a Motor's Current AzEl Position\n",
    "\n",
    "        Returns\n",
    "        -------\n",
    "        (float, float)\n",
    "            Azimuth and Elevation Coordinate as a Tuple of Floats\n",
    "        \"\"\"\n",
    "        pass\n",
    "\n",
    "    def __del__(self):\n",
    "        \"\"\"Override of Motor Delete Method to Close Serial Port if Necessary\n",
    "\n",
    "        Returns\n",
    "        -------\n",
    "        None\n",
    "        \"\"\"\n",
    "        if self.serial is not None and self.serial.is_open:\n",
    "            self.serial.close()"
   ]
  },
  {
   "cell_type": "code",
   "execution_count": 78,
   "metadata": {},
   "outputs": [],
   "source": [
    "Testing=Rot2Motor('/dev/ttyUSB0',115200,[0,360],[0,90],10)"
   ]
  },
  {
   "cell_type": "code",
   "execution_count": 10,
   "metadata": {},
   "outputs": [
    {
     "ename": "NameError",
     "evalue": "name 'Testing' is not defined",
     "output_type": "error",
     "traceback": [
      "\u001b[0;31m---------------------------------------------------------------------------\u001b[0m",
      "\u001b[0;31mNameError\u001b[0m                                 Traceback (most recent call last)",
      "Cell \u001b[0;32mIn[10], line 1\u001b[0m\n\u001b[0;32m----> 1\u001b[0m \u001b[43mTesting\u001b[49m\u001b[38;5;241m.\u001b[39mpoint(\u001b[38;5;241m0\u001b[39m,\u001b[38;5;241m0\u001b[39m)\n",
      "\u001b[0;31mNameError\u001b[0m: name 'Testing' is not defined"
     ]
    }
   ],
   "source": [
    "Testing.point(0,0)"
   ]
  },
  {
   "cell_type": "code",
   "execution_count": 117,
   "metadata": {},
   "outputs": [
    {
     "data": {
      "text/plain": [
       "(-20.0, 0.0)"
      ]
     },
     "execution_count": 117,
     "metadata": {},
     "output_type": "execute_result"
    }
   ],
   "source": [
    "Testing.status()"
   ]
  },
  {
   "cell_type": "code",
   "execution_count": 118,
   "metadata": {},
   "outputs": [],
   "source": [
    "class Rot2Motor(Motor):\n",
    "    \"\"\"Class for Controlling any ROT2 Protocol-Supporting Motor (e.g. SPID Motors)\n",
    "\n",
    "    See Also\n",
    "    --------\n",
    "    <http://ryeng.name/blog/3>\n",
    "    <https://github.com/jaidenfe/rot2proG/blob/master/rot2proG.py>\n",
    "    <https://www.haystack.mit.edu/edu/undergrad/srt/pdf%20files/MD-01%20en.pdf>\n",
    "    \"\"\"\n",
    "\n",
    "    VALID_PULSES_PER_DEGREE = (10, 2, 4)\n",
    "\n",
    "    def __init__(\n",
    "        self,\n",
    "        port,\n",
    "        baudrate,\n",
    "        az_limits,\n",
    "        el_limits,\n",
    "        pulses_per_degree=10,\n",
    "        test_pulses_per_degree=True,\n",
    "    ):\n",
    "        \"\"\"Initializer for Rot2Motor\n",
    "\n",
    "        Parameters\n",
    "        ----------\n",
    "        port : str\n",
    "            Serial Port Identifier String for Communicating with the Motor\n",
    "        baudrate : int\n",
    "            Baudrate for serial connection\n",
    "        az_limits : (float, float)\n",
    "            Tuple of Lower and Upper Azimuth Limits\n",
    "        el_limits : (float, float)\n",
    "            Tuple of Lower and Upper Elevation Limits\n",
    "        pulses_per_degree : int\n",
    "            Number of Motor Pulses per Degree of Movement\n",
    "        test_pulses_per_degree : bool\n",
    "            Whether to Run A Call to Ask the Motor What its True Pulses per Degree Is (By Calling status)\n",
    "        \"\"\"\n",
    "        Motor.__init__(self, port, baudrate, az_limits, el_limits)\n",
    "        self.serial = serial.Serial(\n",
    "            port=self.port,\n",
    "            baudrate=baudrate,\n",
    "            bytesize=serial.EIGHTBITS,\n",
    "            parity=\"N\",\n",
    "            stopbits=serial.STOPBITS_ONE,\n",
    "            timeout=None,\n",
    "        )\n",
    "        if pulses_per_degree in Rot2Motor.VALID_PULSES_PER_DEGREE:\n",
    "            self.pulses_per_degree = pulses_per_degree\n",
    "        else:\n",
    "            raise ValueError(\"Invalid Pulse Per Degree Value\")\n",
    "        if test_pulses_per_degree:\n",
    "            self.status()\n",
    "\n",
    "    def send_rot2_pkt(self, cmd, az=None, el=None):\n",
    "        \"\"\"Builds and Sends a ROT2 Command Packet over Serial\n",
    "\n",
    "        Parameters\n",
    "        ----------\n",
    "        cmd : int\n",
    "            ROT2 Motor Command Value (0x2F -> Set, 0x1F -> Get, 0x0F -> Stop)\n",
    "        az : float\n",
    "            Azimuth Coordinate to Point At (If Applicable)\n",
    "        el : float\n",
    "            Elevation Coordinate to Point At (If Applicable)\n",
    "\n",
    "        Notes\n",
    "        -----\n",
    "        All send_rot2_pkt calls should be followed with a receive_rot2_pkt\n",
    "\n",
    "        Returns\n",
    "        -------\n",
    "        None\n",
    "        \"\"\"\n",
    "        if az is not None and el is not None:\n",
    "            azimuth = int(\n",
    "                self.pulses_per_degree * (az + 360.0)\n",
    "            )  # Formatted Az Pulse Value\n",
    "            elevation = int(\n",
    "                self.pulses_per_degree * (el + 360.0)\n",
    "            )  # Formatted El Pulse Value\n",
    "        else:\n",
    "            azimuth = 0\n",
    "            elevation = 0\n",
    "\n",
    "        azimuth_ticks = (\n",
    "            self.pulses_per_degree\n",
    "        )  # Documentation for Rot2 Says This Is Ignored\n",
    "        elevation_ticks = (\n",
    "            self.pulses_per_degree\n",
    "        )  # Documentation for Rot2 Says This Is Ignored\n",
    "\n",
    "        cmd_string = \"W%04d%c%04d%c%c \" % (\n",
    "            azimuth,\n",
    "            azimuth_ticks,\n",
    "            elevation,\n",
    "            elevation_ticks,\n",
    "            cmd,\n",
    "        )\n",
    "        cmd_bytes = cmd_string.encode(\"ascii\")\n",
    "        # print(\"Packet of Size \" + str(len(cmd_bytes)))\n",
    "        # print([hex(val) for val in cmd_bytes])\n",
    "        self.serial.write(cmd_bytes)\n",
    "\n",
    "    def receive_rot2_pkt(self):\n",
    "        \"\"\"Receives and Parsers an ROT2 Status Packet\n",
    "\n",
    "        Returns\n",
    "        -------\n",
    "        (float, float)\n",
    "            Azimuth and Elevation Coordinate as a Tuple of Floats\n",
    "        \"\"\"\n",
    "        received_vals = self.serial.read(12)\n",
    "        az = (\n",
    "            (received_vals[1] * 100)\n",
    "            + (received_vals[2] * 10)\n",
    "            + received_vals[3]\n",
    "            + (received_vals[4] / 10.0)\n",
    "            - 360.0\n",
    "        )\n",
    "        el = (\n",
    "            (received_vals[6] * 100)\n",
    "            + (received_vals[7] * 10)\n",
    "            + received_vals[8]\n",
    "            + (received_vals[9] / 10.0)\n",
    "            - 360.0\n",
    "        )\n",
    "        az_pulse_per_deg = received_vals[5]\n",
    "        el_pulse_per_deg = received_vals[10]\n",
    "        assert az_pulse_per_deg == el_pulse_per_deg  # Consistency Check\n",
    "        if az_pulse_per_deg != self.pulses_per_degree:\n",
    "            print(\n",
    "                \"Motor Pulses Per Degree Incorrect, Changing Value to \"\n",
    "                + str(az_pulse_per_deg)\n",
    "            )\n",
    "            self.pulses_per_degree = az_pulse_per_deg\n",
    "        return az, el\n",
    "\n",
    "    def point(self, az, el):\n",
    "        \"\"\"Point ROT2 Motor at AzEl Coordinate\n",
    "\n",
    "        Parameters\n",
    "        ----------\n",
    "        az : float\n",
    "            Azimuth Coordinate to Point At\n",
    "        el : float\n",
    "            Elevation Coordinate to Point At\n",
    "\n",
    "        Returns\n",
    "        -------\n",
    "        None\n",
    "        \"\"\"\n",
    "        cmd = 0x2F  # Rot2 Set Command\n",
    "        az_relative = az - self.az_limits[0]\n",
    "        el_relative = el - self.el_limits[0]\n",
    "        self.send_rot2_pkt(cmd, az=az_relative, el=el_relative)\n",
    "\n",
    "    def status(self):\n",
    "        \"\"\"Requests the Current Location of the ROT2 Motor\n",
    "\n",
    "        Returns\n",
    "        -------\n",
    "        (float, float)\n",
    "            Current Azimuth and Elevation Coordinate as a Tuple of Floats\n",
    "        \"\"\"\n",
    "        cmd = 0x1F  # Rot2 Status Command\n",
    "        self.send_rot2_pkt(cmd)\n",
    "        az_relative, el_relative = self.receive_rot2_pkt()\n",
    "        return az_relative + self.az_limits[0], el_relative + self.el_limits[0]\n",
    "\n",
    "    def stop(self):\n",
    "        \"\"\"Stops the ROT2 Motor at its Current Location\n",
    "\n",
    "        Returns\n",
    "        -------\n",
    "        None\n",
    "        \"\"\"\n",
    "        cmd = 0x0F  # Rot2 Stop Command\n",
    "        self.send_rot2_pkt(cmd)\n",
    "        # az_relative, el_relative = self.receive_rot2_pkt()\n",
    "        # return (az_relative + self.az_limits[0], el_relative + self.el_limits[0])"
   ]
  },
  {
   "cell_type": "code",
   "execution_count": null,
   "metadata": {},
   "outputs": [],
   "source": []
  }
 ],
 "metadata": {
  "kernelspec": {
   "display_name": "Python 3",
   "language": "python",
   "name": "python3"
  },
  "language_info": {
   "codemirror_mode": {
    "name": "ipython",
    "version": 3
   },
   "file_extension": ".py",
   "mimetype": "text/x-python",
   "name": "python",
   "nbconvert_exporter": "python",
   "pygments_lexer": "ipython3",
   "version": "3.12.3"
  }
 },
 "nbformat": 4,
 "nbformat_minor": 2
}
